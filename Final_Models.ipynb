{
 "cells": [
  {
   "cell_type": "markdown",
   "metadata": {},
   "source": [
    "# Strategic Financial Insight: Complete Analysis Report\n",
    "\n",
    "## Idaho Policy Institute (IPI) - Municipal Finance & Crime Study\n",
    "\n",
    "**Project Goal:** Identify relationships between municipal financial decisions and crime rates to inform evidence-based resource allocation strategies.\n",
    "\n",
    "---\n",
    "\n",
    "### 📋 Executive Summary\n",
    "\n",
    "This notebook documents the complete analytical workflow used to identify the correlation between municipal debt and crime rates in Idaho cities. Through rigorous data preprocessing, feature engineering, and statistical modeling, we discovered that **long-term outstanding debt** is the most statistically significant predictor of crime rates.\n",
    "\n",
    "### 🎯 Key Findings\n",
    "\n",
    "1. **Primary Discovery:** Long-term debt shows the strongest correlation with crime rates (p < 0.001)\n",
    "2. **Controlled Analysis:** Effect holds even when controlling for population, general expenditure, and employment\n",
    "3. **Actionable Insight:** Municipal debt management should be considered in crime prevention strategies\n",
    "\n",
    "---\n",
    "\n",
    "**⚠️ Note:** This is an analysis notebook, not intended for live compilation. Some models may produce different results if re-run due to data updates or random seeds."
   ]
  },
  {
   "cell_type": "markdown",
   "metadata": {},
   "source": [
    "## Project Background\n",
    "\n",
    "### Context\n",
    "\n",
    "This analysis was conducted as a service-learning project for the **Idaho Policy Institute** at Boise State University. The client sought to optimize government resource allocation for crime reduction by understanding how municipal financial decisions correlate with crime rates.\n",
    "\n",
    "### The Challenge\n",
    "\n",
    "The Idaho Policy Institute provided a comprehensive dataset containing:\n",
    "- **Financial data:** Revenue, expenditure, debt, and assets for Idaho municipalities (1995-2014)\n",
    "- **Crime statistics:** FBI Uniform Crime Reporting data\n",
    "- **Employment data:** BLS county-level employment statistics\n",
    "- **Demographic data:** Population and geographic information\n",
    "\n",
    "### Research Objective\n",
    "\n",
    "**Primary Question:** How do municipal financial decisions (expenditure priorities, revenue sources, debt levels) correlate with crime rates across Idaho cities of different sizes?\n",
    "\n",
    "### Analytical Approach\n",
    "\n",
    "1. **Data Integration:** Merged multiple authoritative data sources\n",
    "2. **Feature Engineering:** Created normalized, comparable metrics across cities\n",
    "3. **Temporal Analysis:** Accounted for trends over 20-year period\n",
    "4. **Statistical Modeling:** OLS time-fixed effects regression with robust controls\n",
    "5. **Model Validation:** Ensured statistical significance and interpretability\n",
    "\n",
    "---"
   ]
  },
  {
   "cell_type": "markdown",
   "metadata": {},
   "source": [
    "## Team & Acknowledgments\n",
    "\n",
    "### Project Team\n",
    "\n",
    "| Role | Name | Contribution |\n",
    "|------|------|--------------|\n",
    "| **Lead Analyst** | Dominik Huffield | Data engineering, statistical modeling, reporting |\n",
    "| **Contributor** | Sammy Bhushan | Data exploration, feature engineering |\n",
    "| **Contributor** | Amir Abbas Kazemzadeh Farizhandi | Data validation, visualization |\n",
    "\n",
    "### Client & Stakeholders\n",
    "\n",
    "- **Client:** Idaho Policy Institute, Boise State University\n",
    "- **Academic Advisor:** Graduate Data Science Program, Boise State University\n",
    "- **Beneficiaries:** Idaho municipal governments, policy makers, residents\n",
    "\n",
    "### Data Providers\n",
    "\n",
    "- U.S. Census Bureau (demographic data)\n",
    "- Bureau of Labor Statistics (employment & CPI data)\n",
    "- FBI Uniform Crime Reporting (crime statistics)\n",
    "- Willamette Government Finance Database (municipal financial data)\n",
    "- GeoNames (geographic coordinates)\n",
    "\n",
    "---"
   ]
  },
  {
   "cell_type": "markdown",
   "metadata": {},
   "source": [
    "## 1. Setup & Imports\n",
    "\n",
    "### Required Libraries\n",
    "\n",
    "This analysis uses a combination of custom modules and standard data science libraries:"
   ]
  },
  {
   "cell_type": "code",
   "execution_count": null,
   "metadata": {},
   "outputs": [],
   "source": [
    "# ===== Custom IPI Modules =====\n",
    "import support.load_data as load              # Data loading and merging\n",
    "import support.supporting_funcs as funcs      # Feature engineering utilities\n",
    "# import support.plotting_funcs as ipiplot    # Visualization functions (optional)\n",
    "\n",
    "# ===== Core Data Science Libraries =====\n",
    "import pandas as pd\n",
    "import numpy as np\n",
    "\n",
    "# ===== Visualization =====\n",
    "import seaborn as sns\n",
    "import matplotlib.pyplot as plt\n",
    "import matplotlib.lines as mlines\n",
    "\n",
    "# ===== Statistical Modeling =====\n",
    "from linearmodels.panel import PanelOLS      # Panel data OLS regression (primary model)\n",
    "from statsmodels.stats.outliers_influence import variance_inflation_factor\n",
    "from statsmodels.tools.tools import add_constant\n",
    "import sympy\n",
    "\n",
    "# ===== Machine Learning =====\n",
    "from sklearn.model_selection import train_test_split, GridSearchCV\n",
    "from sklearn.feature_selection import SelectKBest, chi2, f_regression\n",
    "from sklearn.linear_model import LassoCV, BayesianRidge\n",
    "from sklearn.ensemble import RandomForestRegressor\n",
    "from sklearn.pipeline import Pipeline\n",
    "\n",
    "# ===== Evaluation Metrics =====\n",
    "from sklearn.metrics import accuracy_score, r2_score, mean_squared_log_error\n",
    "\n",
    "# ===== Display Settings =====\n",
    "pd.set_option('display.max_columns', 50)\n",
    "pd.set_option('display.max_rows', 100)\n",
    "plt.style.use('seaborn-v0_8-darkgrid')\n",
    "\n",
    "print(\"✓ All libraries imported successfully!\")\n",
    "print(f\"  NumPy version: {np.__version__}\")\n",
    "print(f\"  Pandas version: {pd.__version__}\")"
   ]
  },
  {
   "cell_type": "markdown",
   "metadata": {},
   "source": [
    "### Installation Notes\n",
    "\n",
    "If your environment is missing required packages, install them using:\n",
    "\n",
    "**Via Conda (recommended):**\n",
    "```bash\n",
    "!conda install -c conda-forge linearmodels statsmodels scikit-learn\n",
    "```\n",
    "\n",
    "**Via pip:**\n",
    "```bash\n",
    "!pip install linearmodels statsmodels scikit-learn pandas numpy matplotlib seaborn\n",
    "```\n",
    "\n",
    "**Or use requirements.txt:**\n",
    "```bash\n",
    "!pip install -r requirements.txt\n",
    "```\n",
    "\n",
    "For detailed installation instructions, refer to the project README.md file.\n",
    "\n",
    "---"
   ]
  },
  {
   "cell_type": "markdown",
   "metadata": {},
   "source": [
    "## 2. Data Understanding\n",
    "\n",
    "### Dataset Overview"
   ]
  },
  {
   "cell_type": "markdown",
   "metadata": {},
   "source": [
    "The Idaho Policy Institute provided extensive documentation for the dataset, including:\n",
    "\n",
    "- **Column Descriptions:** `col_only.csv` contains full descriptions for all 600+ variables\n",
    "- **Data Dictionary:** Abbreviations, units, sources, and temporal coverage\n",
    "- **Data Quality Notes:** Known issues, missing data patterns, special cases\n",
    "\n",
    "**Reference:** For detailed variable descriptions, see the `Library_Demo.ipynb` notebook or use:\n",
    "```python\n",
    "columns = load.cols()\n",
    "funcs.search_column('pattern', columns, disp=True)\n",
    "```\n",
    "\n",
    "---"
   ]
  },
  {
   "cell_type": "markdown",
   "metadata": {},
   "source": [
    "### Integrated Data Sources"
   ]
  },
  {
   "cell_type": "markdown",
   "metadata": {},
   "source": [
    "To enhance the IPI dataset, we integrated data from multiple authoritative sources:\n",
    "\n",
    "| Source | Data Provided | Variables | Temporal Coverage |\n",
    "|--------|---------------|-----------|-------------------|\n",
    "| **U.S. Census Bureau** | Demographics | Population (city/county/state) | 1990-2014 |\n",
    "| **Willamette GFD** | Municipal Finance | Cash flow, expenditure, revenue, debt | 1995-2014 |\n",
    "| **FBI UCR** | Crime Statistics | Offenses by type, arrests, clearances | 1995-2014 |\n",
    "| **Bureau of Labor Statistics** | Economic Indicators | Employment, unemployment, CPI | 1995-2015 |\n",
    "| **GeoNames** | Geographic Data | Latitude, longitude, ZIP codes | Current |\n",
    "\n",
    "### Data Integration Process\n",
    "\n",
    "1. **IPI Base Data:** Financial and crime data for Idaho municipalities\n",
    "2. **Employment Merge:** BLS county-level data joined on FIPS code and year\n",
    "3. **Geographic Merge:** GeoNames coordinates joined on city name\n",
    "4. **Inflation Adjustment:** BLS CPI used to convert all dollars to Oct 2019 real dollars\n",
    "5. **Feature Engineering:** Created normalized metrics for cross-city comparisons\n",
    "\n",
    "**Result:** Comprehensive panel dataset with 600+ variables across 200+ cities over 20 years\n",
    "\n",
    "---"
   ]
  },
  {
   "cell_type": "markdown",
   "metadata": {},
   "source": [
    "### Custom Analysis Toolkit"
   ]
  },
  {
   "cell_type": "markdown",
   "metadata": {},
   "source": [
    "To streamline the analysis, we developed a custom Python toolkit (`support/` module) with specialized functions:\n",
    "\n",
    "**Data Processing Functions:**\n",
    "- `gen_real_dollars()` - Inflation adjustment using CPI\n",
    "- `normalize()` - Create per-capita and percentage features\n",
    "- `categorize_size()` - Classify cities as rural/non-urban/urban\n",
    "\n",
    "**Exploration Functions:**\n",
    "- `search_all()` - Find columns by pattern/regex\n",
    "- `search_column()` - Search full descriptions\n",
    "\n",
    "**Visualization Functions:**\n",
    "- `plot_year()` - Temporal trends with optional grouping\n",
    "- `plot_corr_matrix()` - Correlation heatmaps\n",
    "- `plot_scatter_matrix()` - Pairwise relationships with annotations\n",
    "\n",
    "**Documentation:** For detailed function usage, see `Library_Demo.ipynb`\n",
    "\n",
    "**Note:** Function implementations are located in the `support/` folder for code organization and reusability. They are well-documented with docstrings and examples.\n",
    "\n",
    "---"
   ]
  },
  {
   "cell_type": "markdown",
   "metadata": {},
   "source": [
    "## 3. Data Quality & Preprocessing\n",
    "\n",
    "### The Data Challenge"
   ]
  },
  {
   "cell_type": "markdown",
   "metadata": {},
   "source": [
    "### Panel Data Structure\n",
    "\n",
    "The IPI dataset is **panel data** (also called longitudinal data):\n",
    "- **Cross-sectional dimension:** ~200 Idaho cities/counties\n",
    "- **Temporal dimension:** 20 years (1995-2014)\n",
    "- **Structure:** Multiple observations per city over time\n",
    "\n",
    "### Data Quality Issues Identified\n",
    "\n",
    "#### 1. **Temporal Imbalance**\n",
    "❌ **Problem:** Most cities missing data for several years with no consistent pattern\n",
    "\n",
    "✅ **Solution:** Identified 4 years with complete data (1997, 2002, 2007, 2012) - a clear 5-year collection pattern\n",
    "\n",
    "#### 2. **Entity-Level Incompleteness**\n",
    "❌ **Problem:** Many cities had minimal data across all years\n",
    "\n",
    "✅ **Solution:** Retained 59 \"best cities\" with most complete records (see `best_cities.csv`)\n",
    "\n",
    "#### 3. **County vs. City Data**\n",
    "❌ **Problem:** Insufficient county-level data for reliable analysis\n",
    "\n",
    "✅ **Solution:** Focused analysis on city-level data; removed incomplete county observations\n",
    "\n",
    "#### 4. **Nominal Dollar Values**\n",
    "❌ **Problem:** Financial data in nominal dollars not comparable across years\n",
    "\n",
    "✅ **Solution:** Adjusted all financial data to October 2019 real dollars using BLS CPI\n",
    "\n",
    "### Preprocessing Pipeline\n",
    "\n",
    "```\n",
    "Raw Data (200 cities × 20 years)\n",
    "  ↓\n",
    "Filter to 4 key years (1997, 2002, 2007, 2012)\n",
    "  ↓\n",
    "Select 59 cities with complete data\n",
    "  ↓\n",
    "Adjust for inflation (to Oct 2019 dollars)\n",
    "  ↓\n",
    "Merge employment & geographic data\n",
    "  ↓\n",
    "Create normalized features (per-capita, percentages)\n",
    "  ↓\n",
    "Ready for Analysis (59 cities × 4 years = 236 observations)\n",
    "```\n",
    "\n",
    "### Implementation\n",
    "\n",
    "All preprocessing is automated in the `load.all_data()` and `load.ipi_abb()` functions. See details below:\n",
    "\n",
    "---"
   ]
  },
  {
   "cell_type": "markdown",
   "metadata": {},
   "source": [
    "## Objective for Models"
   ]
  },
  {
   "cell_type": "markdown",
   "metadata": {},
   "source": [
    "The amount of columns contained within the set describing crime amounted to 7 however there were over 500 variables describing financial revenue or expenditure. Using this knowledge we thought it best to attempt to describe crime using financial information as our independent variables (along with additional information). We chose to do this so that we would not limit the features available for our models along with the ability of this type of model to provide a good description of the relation between government finances and crime. The variables describing crime were quantities of occurances so to use this as our dependent variable we needed to construct a regression model. \n",
    "<br>\n",
    "A future iteration of this project one might create a classifier that describes whether an increase or decrease in a feature will result in an increase or decease in crime. We do not address this effect of each feature directly to our dependent as to avoid feature phishing.\n",
    "<br><br>\n",
    "**Selecting A Model** <br>\n",
    "Since this a panel dataset we wanted to account for the serial correlation resulting from the time series. Additionally we thought a linear model the easiest to interpret and understand the inner workings of the data itself. This lead us to a time effects model for our initial build, however the world is not linear and features will likely contain heteroskedasticity so past comprehension a non-linear approach will likely be a more robust and accurate model.\n",
    "<br><br>"
   ]
  },
  {
   "cell_type": "markdown",
   "metadata": {},
   "source": [
    "## Load Dataset "
   ]
  },
  {
   "cell_type": "markdown",
   "metadata": {},
   "source": [
    "Using one of our functions within the support folder, we will take the dataset and convert the financial values from nominal to real dollars creating a dataframe. We use the CPI for 2019 but future analysis should adjust to the most recent CPI value to allow for full comprehension of a dollar.  "
   ]
  },
  {
   "cell_type": "code",
   "execution_count": 84,
   "metadata": {
    "scrolled": false
   },
   "outputs": [
    {
     "name": "stdout",
     "output_type": "stream",
     "text": [
      "Loading IPI data\n",
      "Adjusting for Inflation\n",
      "Getting GPS\n",
      "Getting Employees\n",
      "Merge Everything\n",
      "Categorize City Size\n"
     ]
    }
   ],
   "source": [
    "df = load.all_data(norm=False)"
   ]
  },
  {
   "cell_type": "markdown",
   "metadata": {},
   "source": [
    "## Understanding Data Structure"
   ]
  },
  {
   "cell_type": "code",
   "execution_count": 85,
   "metadata": {},
   "outputs": [
    {
     "data": {
      "text/plain": [
       "array([1995, 1996, 1997, 1998, 1999, 2000, 2001, 2002, 2003, 2004, 2005,\n",
       "       2006, 2007, 2008, 2009, 2010, 2011, 2012, 2013, 2014])"
      ]
     },
     "execution_count": 85,
     "metadata": {},
     "output_type": "execute_result"
    }
   ],
   "source": [
    "df['Year4'].sort_values().unique()"
   ]
  },
  {
   "cell_type": "markdown",
   "metadata": {},
   "source": [
    "As you can see the range of the time series contains values from 1995 to 2014"
   ]
  },
  {
   "cell_type": "code",
   "execution_count": 86,
   "metadata": {},
   "outputs": [
    {
     "data": {
      "text/plain": [
       "200"
      ]
     },
     "execution_count": 86,
     "metadata": {},
     "output_type": "execute_result"
    }
   ],
   "source": [
    "df['Name'].unique().size"
   ]
  },
  {
   "cell_type": "markdown",
   "metadata": {},
   "source": [
    "Along the major axis there are 200 different cities "
   ]
  },
  {
   "cell_type": "code",
   "execution_count": 87,
   "metadata": {
    "scrolled": false
   },
   "outputs": [
    {
     "data": {
      "text/html": [
       "<div>\n",
       "<style scoped>\n",
       "    .dataframe tbody tr th:only-of-type {\n",
       "        vertical-align: middle;\n",
       "    }\n",
       "\n",
       "    .dataframe tbody tr th {\n",
       "        vertical-align: top;\n",
       "    }\n",
       "\n",
       "    .dataframe thead th {\n",
       "        text-align: right;\n",
       "    }\n",
       "</style>\n",
       "<table border=\"1\" class=\"dataframe\">\n",
       "  <thead>\n",
       "    <tr style=\"text-align: right;\">\n",
       "      <th></th>\n",
       "      <th></th>\n",
       "      <th>County</th>\n",
       "      <th>YearofData</th>\n",
       "      <th>SurveyYr</th>\n",
       "      <th>ID</th>\n",
       "      <th>IDChanged</th>\n",
       "      <th>Type_Code</th>\n",
       "      <th>County</th>\n",
       "      <th>FIPS_Code_State</th>\n",
       "      <th>FIPS_County</th>\n",
       "      <th>FIPS_Place</th>\n",
       "      <th>...</th>\n",
       "      <th>County/State</th>\n",
       "      <th>County FIPS Year</th>\n",
       "      <th>County Labor Force</th>\n",
       "      <th>County Labor Employed</th>\n",
       "      <th>County Labor Unemployed</th>\n",
       "      <th>Unemployment Rate (%)</th>\n",
       "      <th>postalcode</th>\n",
       "      <th>latitude</th>\n",
       "      <th>longitude</th>\n",
       "      <th>size</th>\n",
       "    </tr>\n",
       "    <tr>\n",
       "      <th>Name</th>\n",
       "      <th>Year4</th>\n",
       "      <th></th>\n",
       "      <th></th>\n",
       "      <th></th>\n",
       "      <th></th>\n",
       "      <th></th>\n",
       "      <th></th>\n",
       "      <th></th>\n",
       "      <th></th>\n",
       "      <th></th>\n",
       "      <th></th>\n",
       "      <th></th>\n",
       "      <th></th>\n",
       "      <th></th>\n",
       "      <th></th>\n",
       "      <th></th>\n",
       "      <th></th>\n",
       "      <th></th>\n",
       "      <th></th>\n",
       "      <th></th>\n",
       "      <th></th>\n",
       "      <th></th>\n",
       "    </tr>\n",
       "  </thead>\n",
       "  <tbody>\n",
       "    <tr>\n",
       "      <th rowspan=\"19\" valign=\"top\">BOISE CITY</th>\n",
       "      <th>1996</th>\n",
       "      <td>Ada</td>\n",
       "      <td>96.0</td>\n",
       "      <td>96.0</td>\n",
       "      <td>132001001.0</td>\n",
       "      <td>0.0</td>\n",
       "      <td>2.0</td>\n",
       "      <td>Ada</td>\n",
       "      <td>16.0</td>\n",
       "      <td>1.0</td>\n",
       "      <td>8830.0</td>\n",
       "      <td>...</td>\n",
       "      <td>Ada County, ID</td>\n",
       "      <td>1996.0</td>\n",
       "      <td>150733.0</td>\n",
       "      <td>145670.0</td>\n",
       "      <td>5063.0</td>\n",
       "      <td>3.4</td>\n",
       "      <td>83701</td>\n",
       "      <td>43.6038</td>\n",
       "      <td>-116.2729</td>\n",
       "      <td>urban</td>\n",
       "    </tr>\n",
       "    <tr>\n",
       "      <th>1997</th>\n",
       "      <td>Ada</td>\n",
       "      <td>97.0</td>\n",
       "      <td>97.0</td>\n",
       "      <td>132001001.0</td>\n",
       "      <td>0.0</td>\n",
       "      <td>2.0</td>\n",
       "      <td>Ada</td>\n",
       "      <td>16.0</td>\n",
       "      <td>1.0</td>\n",
       "      <td>8830.0</td>\n",
       "      <td>...</td>\n",
       "      <td>Ada County, ID</td>\n",
       "      <td>1997.0</td>\n",
       "      <td>156552.0</td>\n",
       "      <td>151759.0</td>\n",
       "      <td>4793.0</td>\n",
       "      <td>3.1</td>\n",
       "      <td>83701</td>\n",
       "      <td>43.6038</td>\n",
       "      <td>-116.2729</td>\n",
       "      <td>urban</td>\n",
       "    </tr>\n",
       "    <tr>\n",
       "      <th>1998</th>\n",
       "      <td>Ada</td>\n",
       "      <td>98.0</td>\n",
       "      <td>98.0</td>\n",
       "      <td>132001001.0</td>\n",
       "      <td>0.0</td>\n",
       "      <td>2.0</td>\n",
       "      <td>Ada</td>\n",
       "      <td>16.0</td>\n",
       "      <td>1.0</td>\n",
       "      <td>8830.0</td>\n",
       "      <td>...</td>\n",
       "      <td>Ada County, ID</td>\n",
       "      <td>1998.0</td>\n",
       "      <td>163205.0</td>\n",
       "      <td>157989.0</td>\n",
       "      <td>5216.0</td>\n",
       "      <td>3.2</td>\n",
       "      <td>83701</td>\n",
       "      <td>43.6038</td>\n",
       "      <td>-116.2729</td>\n",
       "      <td>urban</td>\n",
       "    </tr>\n",
       "    <tr>\n",
       "      <th>1999</th>\n",
       "      <td>Ada</td>\n",
       "      <td>99.0</td>\n",
       "      <td>99.0</td>\n",
       "      <td>132001001.0</td>\n",
       "      <td>0.0</td>\n",
       "      <td>2.0</td>\n",
       "      <td>Ada</td>\n",
       "      <td>16.0</td>\n",
       "      <td>1.0</td>\n",
       "      <td>8830.0</td>\n",
       "      <td>...</td>\n",
       "      <td>Ada County, ID</td>\n",
       "      <td>1999.0</td>\n",
       "      <td>166095.0</td>\n",
       "      <td>160959.0</td>\n",
       "      <td>5136.0</td>\n",
       "      <td>3.1</td>\n",
       "      <td>83701</td>\n",
       "      <td>43.6038</td>\n",
       "      <td>-116.2729</td>\n",
       "      <td>urban</td>\n",
       "    </tr>\n",
       "    <tr>\n",
       "      <th>2000</th>\n",
       "      <td>Ada</td>\n",
       "      <td>0.0</td>\n",
       "      <td>0.0</td>\n",
       "      <td>132001001.0</td>\n",
       "      <td>0.0</td>\n",
       "      <td>2.0</td>\n",
       "      <td>Ada</td>\n",
       "      <td>16.0</td>\n",
       "      <td>1.0</td>\n",
       "      <td>8830.0</td>\n",
       "      <td>...</td>\n",
       "      <td>Ada County, ID</td>\n",
       "      <td>2000.0</td>\n",
       "      <td>169932.0</td>\n",
       "      <td>164171.0</td>\n",
       "      <td>5761.0</td>\n",
       "      <td>3.4</td>\n",
       "      <td>83701</td>\n",
       "      <td>43.6038</td>\n",
       "      <td>-116.2729</td>\n",
       "      <td>urban</td>\n",
       "    </tr>\n",
       "    <tr>\n",
       "      <th>2001</th>\n",
       "      <td>Ada</td>\n",
       "      <td>NaN</td>\n",
       "      <td>1.0</td>\n",
       "      <td>132001001.0</td>\n",
       "      <td>0.0</td>\n",
       "      <td>2.0</td>\n",
       "      <td>Ada</td>\n",
       "      <td>16.0</td>\n",
       "      <td>1.0</td>\n",
       "      <td>8830.0</td>\n",
       "      <td>...</td>\n",
       "      <td>Ada County, ID</td>\n",
       "      <td>2001.0</td>\n",
       "      <td>175653.0</td>\n",
       "      <td>168876.0</td>\n",
       "      <td>6777.0</td>\n",
       "      <td>3.9</td>\n",
       "      <td>83701</td>\n",
       "      <td>43.6038</td>\n",
       "      <td>-116.2729</td>\n",
       "      <td>urban</td>\n",
       "    </tr>\n",
       "    <tr>\n",
       "      <th>2002</th>\n",
       "      <td>Ada</td>\n",
       "      <td>NaN</td>\n",
       "      <td>2.0</td>\n",
       "      <td>132001001.0</td>\n",
       "      <td>0.0</td>\n",
       "      <td>2.0</td>\n",
       "      <td>Ada</td>\n",
       "      <td>16.0</td>\n",
       "      <td>1.0</td>\n",
       "      <td>8830.0</td>\n",
       "      <td>...</td>\n",
       "      <td>Ada County, ID</td>\n",
       "      <td>2002.0</td>\n",
       "      <td>175742.0</td>\n",
       "      <td>167437.0</td>\n",
       "      <td>8305.0</td>\n",
       "      <td>4.7</td>\n",
       "      <td>83701</td>\n",
       "      <td>43.6038</td>\n",
       "      <td>-116.2729</td>\n",
       "      <td>urban</td>\n",
       "    </tr>\n",
       "    <tr>\n",
       "      <th>2003</th>\n",
       "      <td>Ada</td>\n",
       "      <td>NaN</td>\n",
       "      <td>3.0</td>\n",
       "      <td>132001001.0</td>\n",
       "      <td>0.0</td>\n",
       "      <td>2.0</td>\n",
       "      <td>Ada</td>\n",
       "      <td>16.0</td>\n",
       "      <td>1.0</td>\n",
       "      <td>8830.0</td>\n",
       "      <td>...</td>\n",
       "      <td>Ada County, ID</td>\n",
       "      <td>2003.0</td>\n",
       "      <td>177056.0</td>\n",
       "      <td>168453.0</td>\n",
       "      <td>8603.0</td>\n",
       "      <td>4.9</td>\n",
       "      <td>83701</td>\n",
       "      <td>43.6038</td>\n",
       "      <td>-116.2729</td>\n",
       "      <td>urban</td>\n",
       "    </tr>\n",
       "    <tr>\n",
       "      <th>2004</th>\n",
       "      <td>Ada</td>\n",
       "      <td>NaN</td>\n",
       "      <td>4.0</td>\n",
       "      <td>132001001.0</td>\n",
       "      <td>0.0</td>\n",
       "      <td>2.0</td>\n",
       "      <td>Ada</td>\n",
       "      <td>16.0</td>\n",
       "      <td>1.0</td>\n",
       "      <td>8830.0</td>\n",
       "      <td>...</td>\n",
       "      <td>Ada County, ID</td>\n",
       "      <td>2004.0</td>\n",
       "      <td>178289.0</td>\n",
       "      <td>171048.0</td>\n",
       "      <td>7241.0</td>\n",
       "      <td>4.1</td>\n",
       "      <td>83701</td>\n",
       "      <td>43.6038</td>\n",
       "      <td>-116.2729</td>\n",
       "      <td>urban</td>\n",
       "    </tr>\n",
       "    <tr>\n",
       "      <th>2005</th>\n",
       "      <td>Ada</td>\n",
       "      <td>NaN</td>\n",
       "      <td>5.0</td>\n",
       "      <td>132001001.0</td>\n",
       "      <td>0.0</td>\n",
       "      <td>2.0</td>\n",
       "      <td>Ada</td>\n",
       "      <td>16.0</td>\n",
       "      <td>1.0</td>\n",
       "      <td>8830.0</td>\n",
       "      <td>...</td>\n",
       "      <td>Ada County, ID</td>\n",
       "      <td>2005.0</td>\n",
       "      <td>187127.0</td>\n",
       "      <td>180914.0</td>\n",
       "      <td>6213.0</td>\n",
       "      <td>3.3</td>\n",
       "      <td>83701</td>\n",
       "      <td>43.6038</td>\n",
       "      <td>-116.2729</td>\n",
       "      <td>urban</td>\n",
       "    </tr>\n",
       "    <tr>\n",
       "      <th>2006</th>\n",
       "      <td>Ada</td>\n",
       "      <td>NaN</td>\n",
       "      <td>6.0</td>\n",
       "      <td>132001001.0</td>\n",
       "      <td>0.0</td>\n",
       "      <td>2.0</td>\n",
       "      <td>Ada</td>\n",
       "      <td>16.0</td>\n",
       "      <td>1.0</td>\n",
       "      <td>8830.0</td>\n",
       "      <td>...</td>\n",
       "      <td>Ada County, ID</td>\n",
       "      <td>2006.0</td>\n",
       "      <td>193828.0</td>\n",
       "      <td>188617.0</td>\n",
       "      <td>5211.0</td>\n",
       "      <td>2.7</td>\n",
       "      <td>83701</td>\n",
       "      <td>43.6038</td>\n",
       "      <td>-116.2729</td>\n",
       "      <td>urban</td>\n",
       "    </tr>\n",
       "    <tr>\n",
       "      <th>2007</th>\n",
       "      <td>Ada</td>\n",
       "      <td>NaN</td>\n",
       "      <td>7.0</td>\n",
       "      <td>132001001.0</td>\n",
       "      <td>NaN</td>\n",
       "      <td>2.0</td>\n",
       "      <td>Ada</td>\n",
       "      <td>16.0</td>\n",
       "      <td>1.0</td>\n",
       "      <td>8830.0</td>\n",
       "      <td>...</td>\n",
       "      <td>Ada County, ID</td>\n",
       "      <td>2007.0</td>\n",
       "      <td>196740.0</td>\n",
       "      <td>191500.0</td>\n",
       "      <td>5240.0</td>\n",
       "      <td>2.7</td>\n",
       "      <td>83701</td>\n",
       "      <td>43.6038</td>\n",
       "      <td>-116.2729</td>\n",
       "      <td>urban</td>\n",
       "    </tr>\n",
       "    <tr>\n",
       "      <th>2008</th>\n",
       "      <td>Ada</td>\n",
       "      <td>NaN</td>\n",
       "      <td>8.0</td>\n",
       "      <td>132001001.0</td>\n",
       "      <td>NaN</td>\n",
       "      <td>2.0</td>\n",
       "      <td>Ada</td>\n",
       "      <td>16.0</td>\n",
       "      <td>1.0</td>\n",
       "      <td>8830.0</td>\n",
       "      <td>...</td>\n",
       "      <td>Ada County, ID</td>\n",
       "      <td>2008.0</td>\n",
       "      <td>196434.0</td>\n",
       "      <td>186848.0</td>\n",
       "      <td>9586.0</td>\n",
       "      <td>4.9</td>\n",
       "      <td>83701</td>\n",
       "      <td>43.6038</td>\n",
       "      <td>-116.2729</td>\n",
       "      <td>urban</td>\n",
       "    </tr>\n",
       "    <tr>\n",
       "      <th>2009</th>\n",
       "      <td>Ada</td>\n",
       "      <td>NaN</td>\n",
       "      <td>9.0</td>\n",
       "      <td>132001001.0</td>\n",
       "      <td>NaN</td>\n",
       "      <td>2.0</td>\n",
       "      <td>Ada</td>\n",
       "      <td>16.0</td>\n",
       "      <td>1.0</td>\n",
       "      <td>8830.0</td>\n",
       "      <td>...</td>\n",
       "      <td>Ada County, ID</td>\n",
       "      <td>2009.0</td>\n",
       "      <td>196383.0</td>\n",
       "      <td>178892.0</td>\n",
       "      <td>17491.0</td>\n",
       "      <td>8.9</td>\n",
       "      <td>83701</td>\n",
       "      <td>43.6038</td>\n",
       "      <td>-116.2729</td>\n",
       "      <td>urban</td>\n",
       "    </tr>\n",
       "    <tr>\n",
       "      <th>2010</th>\n",
       "      <td>Ada</td>\n",
       "      <td>NaN</td>\n",
       "      <td>10.0</td>\n",
       "      <td>132001001.0</td>\n",
       "      <td>NaN</td>\n",
       "      <td>2.0</td>\n",
       "      <td>Ada</td>\n",
       "      <td>16.0</td>\n",
       "      <td>1.0</td>\n",
       "      <td>8830.0</td>\n",
       "      <td>...</td>\n",
       "      <td>Ada County, ID</td>\n",
       "      <td>2010.0</td>\n",
       "      <td>196945.0</td>\n",
       "      <td>180585.0</td>\n",
       "      <td>16360.0</td>\n",
       "      <td>8.3</td>\n",
       "      <td>83701</td>\n",
       "      <td>43.6038</td>\n",
       "      <td>-116.2729</td>\n",
       "      <td>urban</td>\n",
       "    </tr>\n",
       "    <tr>\n",
       "      <th>2011</th>\n",
       "      <td>Ada</td>\n",
       "      <td>NaN</td>\n",
       "      <td>11.0</td>\n",
       "      <td>132001001.0</td>\n",
       "      <td>NaN</td>\n",
       "      <td>2.0</td>\n",
       "      <td>Ada</td>\n",
       "      <td>16.0</td>\n",
       "      <td>1.0</td>\n",
       "      <td>8830.0</td>\n",
       "      <td>...</td>\n",
       "      <td>Ada County, ID</td>\n",
       "      <td>2011.0</td>\n",
       "      <td>200304.0</td>\n",
       "      <td>185600.0</td>\n",
       "      <td>14704.0</td>\n",
       "      <td>7.3</td>\n",
       "      <td>83701</td>\n",
       "      <td>43.6038</td>\n",
       "      <td>-116.2729</td>\n",
       "      <td>urban</td>\n",
       "    </tr>\n",
       "    <tr>\n",
       "      <th>2012</th>\n",
       "      <td>Ada</td>\n",
       "      <td>NaN</td>\n",
       "      <td>12.0</td>\n",
       "      <td>132001001.0</td>\n",
       "      <td>NaN</td>\n",
       "      <td>2.0</td>\n",
       "      <td>Ada</td>\n",
       "      <td>16.0</td>\n",
       "      <td>1.0</td>\n",
       "      <td>8830.0</td>\n",
       "      <td>...</td>\n",
       "      <td>Ada County, ID</td>\n",
       "      <td>2012.0</td>\n",
       "      <td>204353.0</td>\n",
       "      <td>191714.0</td>\n",
       "      <td>12639.0</td>\n",
       "      <td>6.2</td>\n",
       "      <td>83701</td>\n",
       "      <td>43.6038</td>\n",
       "      <td>-116.2729</td>\n",
       "      <td>urban</td>\n",
       "    </tr>\n",
       "    <tr>\n",
       "      <th>2013</th>\n",
       "      <td>Ada</td>\n",
       "      <td>NaN</td>\n",
       "      <td>13.0</td>\n",
       "      <td>132001001.0</td>\n",
       "      <td>NaN</td>\n",
       "      <td>2.0</td>\n",
       "      <td>Ada</td>\n",
       "      <td>16.0</td>\n",
       "      <td>1.0</td>\n",
       "      <td>8830.0</td>\n",
       "      <td>...</td>\n",
       "      <td>Ada County, ID</td>\n",
       "      <td>2013.0</td>\n",
       "      <td>206575.0</td>\n",
       "      <td>195843.0</td>\n",
       "      <td>10732.0</td>\n",
       "      <td>5.2</td>\n",
       "      <td>83701</td>\n",
       "      <td>43.6038</td>\n",
       "      <td>-116.2729</td>\n",
       "      <td>urban</td>\n",
       "    </tr>\n",
       "    <tr>\n",
       "      <th>2014</th>\n",
       "      <td>Ada</td>\n",
       "      <td>NaN</td>\n",
       "      <td>14.0</td>\n",
       "      <td>132001001.0</td>\n",
       "      <td>NaN</td>\n",
       "      <td>2.0</td>\n",
       "      <td>Ada</td>\n",
       "      <td>16.0</td>\n",
       "      <td>1.0</td>\n",
       "      <td>8830.0</td>\n",
       "      <td>...</td>\n",
       "      <td>Ada County, ID</td>\n",
       "      <td>2014.0</td>\n",
       "      <td>211675.0</td>\n",
       "      <td>202897.0</td>\n",
       "      <td>8778.0</td>\n",
       "      <td>4.1</td>\n",
       "      <td>83701</td>\n",
       "      <td>43.6038</td>\n",
       "      <td>-116.2729</td>\n",
       "      <td>urban</td>\n",
       "    </tr>\n",
       "  </tbody>\n",
       "</table>\n",
       "<p>19 rows × 629 columns</p>\n",
       "</div>"
      ],
      "text/plain": [
       "                 County  YearofData  SurveyYr           ID  IDChanged  \\\n",
       "Name       Year4                                                        \n",
       "BOISE CITY 1996     Ada        96.0      96.0  132001001.0        0.0   \n",
       "           1997     Ada        97.0      97.0  132001001.0        0.0   \n",
       "           1998     Ada        98.0      98.0  132001001.0        0.0   \n",
       "           1999     Ada        99.0      99.0  132001001.0        0.0   \n",
       "           2000     Ada         0.0       0.0  132001001.0        0.0   \n",
       "           2001     Ada         NaN       1.0  132001001.0        0.0   \n",
       "           2002     Ada         NaN       2.0  132001001.0        0.0   \n",
       "           2003     Ada         NaN       3.0  132001001.0        0.0   \n",
       "           2004     Ada         NaN       4.0  132001001.0        0.0   \n",
       "           2005     Ada         NaN       5.0  132001001.0        0.0   \n",
       "           2006     Ada         NaN       6.0  132001001.0        0.0   \n",
       "           2007     Ada         NaN       7.0  132001001.0        NaN   \n",
       "           2008     Ada         NaN       8.0  132001001.0        NaN   \n",
       "           2009     Ada         NaN       9.0  132001001.0        NaN   \n",
       "           2010     Ada         NaN      10.0  132001001.0        NaN   \n",
       "           2011     Ada         NaN      11.0  132001001.0        NaN   \n",
       "           2012     Ada         NaN      12.0  132001001.0        NaN   \n",
       "           2013     Ada         NaN      13.0  132001001.0        NaN   \n",
       "           2014     Ada         NaN      14.0  132001001.0        NaN   \n",
       "\n",
       "                  Type_Code County  FIPS_Code_State  FIPS_County  FIPS_Place  \\\n",
       "Name       Year4                                                               \n",
       "BOISE CITY 1996         2.0    Ada             16.0          1.0      8830.0   \n",
       "           1997         2.0    Ada             16.0          1.0      8830.0   \n",
       "           1998         2.0    Ada             16.0          1.0      8830.0   \n",
       "           1999         2.0    Ada             16.0          1.0      8830.0   \n",
       "           2000         2.0    Ada             16.0          1.0      8830.0   \n",
       "           2001         2.0    Ada             16.0          1.0      8830.0   \n",
       "           2002         2.0    Ada             16.0          1.0      8830.0   \n",
       "           2003         2.0    Ada             16.0          1.0      8830.0   \n",
       "           2004         2.0    Ada             16.0          1.0      8830.0   \n",
       "           2005         2.0    Ada             16.0          1.0      8830.0   \n",
       "           2006         2.0    Ada             16.0          1.0      8830.0   \n",
       "           2007         2.0    Ada             16.0          1.0      8830.0   \n",
       "           2008         2.0    Ada             16.0          1.0      8830.0   \n",
       "           2009         2.0    Ada             16.0          1.0      8830.0   \n",
       "           2010         2.0    Ada             16.0          1.0      8830.0   \n",
       "           2011         2.0    Ada             16.0          1.0      8830.0   \n",
       "           2012         2.0    Ada             16.0          1.0      8830.0   \n",
       "           2013         2.0    Ada             16.0          1.0      8830.0   \n",
       "           2014         2.0    Ada             16.0          1.0      8830.0   \n",
       "\n",
       "                  ...      County/State  County FIPS Year  County Labor Force  \\\n",
       "Name       Year4  ...                                                           \n",
       "BOISE CITY 1996   ...    Ada County, ID            1996.0            150733.0   \n",
       "           1997   ...    Ada County, ID            1997.0            156552.0   \n",
       "           1998   ...    Ada County, ID            1998.0            163205.0   \n",
       "           1999   ...    Ada County, ID            1999.0            166095.0   \n",
       "           2000   ...    Ada County, ID            2000.0            169932.0   \n",
       "           2001   ...    Ada County, ID            2001.0            175653.0   \n",
       "           2002   ...    Ada County, ID            2002.0            175742.0   \n",
       "           2003   ...    Ada County, ID            2003.0            177056.0   \n",
       "           2004   ...    Ada County, ID            2004.0            178289.0   \n",
       "           2005   ...    Ada County, ID            2005.0            187127.0   \n",
       "           2006   ...    Ada County, ID            2006.0            193828.0   \n",
       "           2007   ...    Ada County, ID            2007.0            196740.0   \n",
       "           2008   ...    Ada County, ID            2008.0            196434.0   \n",
       "           2009   ...    Ada County, ID            2009.0            196383.0   \n",
       "           2010   ...    Ada County, ID            2010.0            196945.0   \n",
       "           2011   ...    Ada County, ID            2011.0            200304.0   \n",
       "           2012   ...    Ada County, ID            2012.0            204353.0   \n",
       "           2013   ...    Ada County, ID            2013.0            206575.0   \n",
       "           2014   ...    Ada County, ID            2014.0            211675.0   \n",
       "\n",
       "                  County Labor Employed  County Labor Unemployed  \\\n",
       "Name       Year4                                                   \n",
       "BOISE CITY 1996                145670.0                   5063.0   \n",
       "           1997                151759.0                   4793.0   \n",
       "           1998                157989.0                   5216.0   \n",
       "           1999                160959.0                   5136.0   \n",
       "           2000                164171.0                   5761.0   \n",
       "           2001                168876.0                   6777.0   \n",
       "           2002                167437.0                   8305.0   \n",
       "           2003                168453.0                   8603.0   \n",
       "           2004                171048.0                   7241.0   \n",
       "           2005                180914.0                   6213.0   \n",
       "           2006                188617.0                   5211.0   \n",
       "           2007                191500.0                   5240.0   \n",
       "           2008                186848.0                   9586.0   \n",
       "           2009                178892.0                  17491.0   \n",
       "           2010                180585.0                  16360.0   \n",
       "           2011                185600.0                  14704.0   \n",
       "           2012                191714.0                  12639.0   \n",
       "           2013                195843.0                  10732.0   \n",
       "           2014                202897.0                   8778.0   \n",
       "\n",
       "                  Unemployment Rate (%)  postalcode  latitude  longitude  \\\n",
       "Name       Year4                                                           \n",
       "BOISE CITY 1996                     3.4       83701   43.6038  -116.2729   \n",
       "           1997                     3.1       83701   43.6038  -116.2729   \n",
       "           1998                     3.2       83701   43.6038  -116.2729   \n",
       "           1999                     3.1       83701   43.6038  -116.2729   \n",
       "           2000                     3.4       83701   43.6038  -116.2729   \n",
       "           2001                     3.9       83701   43.6038  -116.2729   \n",
       "           2002                     4.7       83701   43.6038  -116.2729   \n",
       "           2003                     4.9       83701   43.6038  -116.2729   \n",
       "           2004                     4.1       83701   43.6038  -116.2729   \n",
       "           2005                     3.3       83701   43.6038  -116.2729   \n",
       "           2006                     2.7       83701   43.6038  -116.2729   \n",
       "           2007                     2.7       83701   43.6038  -116.2729   \n",
       "           2008                     4.9       83701   43.6038  -116.2729   \n",
       "           2009                     8.9       83701   43.6038  -116.2729   \n",
       "           2010                     8.3       83701   43.6038  -116.2729   \n",
       "           2011                     7.3       83701   43.6038  -116.2729   \n",
       "           2012                     6.2       83701   43.6038  -116.2729   \n",
       "           2013                     5.2       83701   43.6038  -116.2729   \n",
       "           2014                     4.1       83701   43.6038  -116.2729   \n",
       "\n",
       "                   size  \n",
       "Name       Year4         \n",
       "BOISE CITY 1996   urban  \n",
       "           1997   urban  \n",
       "           1998   urban  \n",
       "           1999   urban  \n",
       "           2000   urban  \n",
       "           2001   urban  \n",
       "           2002   urban  \n",
       "           2003   urban  \n",
       "           2004   urban  \n",
       "           2005   urban  \n",
       "           2006   urban  \n",
       "           2007   urban  \n",
       "           2008   urban  \n",
       "           2009   urban  \n",
       "           2010   urban  \n",
       "           2011   urban  \n",
       "           2012   urban  \n",
       "           2013   urban  \n",
       "           2014   urban  \n",
       "\n",
       "[19 rows x 629 columns]"
      ]
     },
     "execution_count": 87,
     "metadata": {},
     "output_type": "execute_result"
    }
   ],
   "source": [
    "df.set_index(['Name', 'Year4']).loc[('BOISE CITY',np.arange(1995, 2016)), :]"
   ]
  },
  {
   "cell_type": "markdown",
   "metadata": {},
   "source": [
    "Here is a visual representation of one of these cities. Notice that for this city there is not data for 1995 and that we have an unbalaced panel. Some cities are missing many more values than this one and we will address this further down."
   ]
  },
  {
   "cell_type": "code",
   "execution_count": 88,
   "metadata": {},
   "outputs": [
    {
     "data": {
      "text/plain": [
       "(1509, 631)"
      ]
     },
     "execution_count": 88,
     "metadata": {},
     "output_type": "execute_result"
    }
   ],
   "source": [
    "df.shape"
   ]
  },
  {
   "cell_type": "markdown",
   "metadata": {},
   "source": [
    "Here you can see that we have over 600 variables"
   ]
  },
  {
   "cell_type": "code",
   "execution_count": 89,
   "metadata": {},
   "outputs": [
    {
     "name": "stdout",
     "output_type": "stream",
     "text": [
      "County\n",
      "County\n",
      "FIPS_County\n",
      "Counties - Assault- Total\n",
      "Counties - Burglary- Total\n",
      "Counties - Manslaughter- Total\n",
      "Counties - Murder- Total\n",
      "Counties - Rape-Total\n",
      "Counties - Robbery- Total\n",
      "Counties - Total- All Thefts\n",
      "County FIPS Code\n",
      "County/State\n",
      "County FIPS Year\n",
      "County Labor Force\n",
      "County Labor Employed\n",
      "County Labor Unemployed\n"
     ]
    }
   ],
   "source": [
    "df = df.drop(columns= funcs.search_all(df, 'coun'))"
   ]
  },
  {
   "cell_type": "markdown",
   "metadata": {},
   "source": [
    "Again we reference a supporting function which we use to search for and drop all columns representing county level data. During our exploratory analysis we concluded that there was not enough county level data to be beneficial, cities become our major axis"
   ]
  },
  {
   "cell_type": "code",
   "execution_count": 90,
   "metadata": {},
   "outputs": [
    {
     "data": {
      "text/plain": [
       "(1509, 615)"
      ]
     },
     "execution_count": 90,
     "metadata": {},
     "output_type": "execute_result"
    }
   ],
   "source": [
    "df.shape"
   ]
  },
  {
   "cell_type": "markdown",
   "metadata": {},
   "source": [
    "After refining the granularity of available variables to only consist of city level data we are left with 615 potential features   "
   ]
  },
  {
   "cell_type": "code",
   "execution_count": 91,
   "metadata": {},
   "outputs": [
    {
     "data": {
      "image/png": "[encoded data removed]",
      "text/plain": [
       "<Figure size 720x504 with 1 Axes>"
      ]
     },
     "metadata": {},
     "output_type": "display_data"
    }
   ],
   "source": [
    "plt.style.use('seaborn')\n",
    "sns.barplot(x='Year4', y='Population', data=df.groupby('Year4').count().reset_index())\n",
    "fig = plt.gcf()\n",
    "fig.set_size_inches(10,7)\n",
    "plt.ylabel('Quantity of Data Points')\n",
    "plt.xlabel('Year')\n",
    "plt.title('Frequency of gathered datapoints by Year')\n",
    "plt.tight_layout()"
   ]
  },
  {
   "cell_type": "code",
   "execution_count": 92,
   "metadata": {},
   "outputs": [],
   "source": [
    "df = df.loc[df['Year4'].isin([1997, 2002, 2007, 2012])]"
   ]
  },
  {
   "cell_type": "markdown",
   "metadata": {},
   "source": [
    "This plot only shows data points for population but during our analysis we identified that this trend was consistent for most variables. Being an unbalanced panel we removed every year other than 1997, 2002, 2007 and 2012. This provides us measurements on the max number of features while also maintaining balance. Removing these years was necessisary to maintain high quality input data. Notice these years are all evenly spaced so change in variables between years will be clear."
   ]
  },
  {
   "cell_type": "markdown",
   "metadata": {},
   "source": [
    "## Selecting a Dependant Variable "
   ]
  },
  {
   "cell_type": "markdown",
   "metadata": {},
   "source": [
    "As stated under the _\"Objective of Model\"_ section above; the set contains many statistics desribing the financial activity of each city but only seven variables describing crime. These crime statsistics are unique measuements relative to the financial majority. There are a few other columns not describing finances, such as population, but we concluded that these columns would not provide the same value in identifying relations describing criminal activities and goverment financials. <br><br>\n",
    "\n",
    "Distinct from crime we also had information on unemployment data and would have liked to use it as the dependent in its own model . We were unable to address this within the time constraint but doing so would likely prove insightful. "
   ]
  },
  {
   "cell_type": "code",
   "execution_count": 93,
   "metadata": {},
   "outputs": [
    {
     "data": {
      "text/plain": [
       "(797, 615)"
      ]
     },
     "execution_count": 93,
     "metadata": {},
     "output_type": "execute_result"
    }
   ],
   "source": [
    "df.shape"
   ]
  },
  {
   "cell_type": "markdown",
   "metadata": {},
   "source": [
    "After dropping those years from the set we are left with about 800 rows"
   ]
  },
  {
   "cell_type": "code",
   "execution_count": 94,
   "metadata": {},
   "outputs": [
    {
     "data": {
      "text/plain": [
       "(236, 615)"
      ]
     },
     "execution_count": 94,
     "metadata": {},
     "output_type": "execute_result"
    }
   ],
   "source": [
    "cities = (df.groupby('Name')['Assault- Total - Municipalities'].count() == 4)\n",
    "cities = cities[cities == True].index\n",
    "df = df[df['Name'].isin(cities)]\n",
    "df.shape"
   ]
  },
  {
   "cell_type": "markdown",
   "metadata": {},
   "source": [
    "Having already removed useless data on our minor axis (years) we then sought to do the same to our major axis (cities). Above we removed any city that did not have data for all four years, this reduced the total records in our dataframe to 236. This unfortunately removed a large portion of the original set but greatly improved the overall quality of our scope.  "
   ]
  },
  {
   "cell_type": "code",
   "execution_count": 95,
   "metadata": {},
   "outputs": [
    {
     "data": {
      "text/plain": [
       "(236, 101)"
      ]
     },
     "execution_count": 95,
     "metadata": {},
     "output_type": "execute_result"
    }
   ],
   "source": [
    "tmp = df.notna().sum()\n",
    "tmp = tmp[tmp > 206]\n",
    "df = df.loc[:,tmp.index]\n",
    "df.shape"
   ]
  },
  {
   "cell_type": "markdown",
   "metadata": {},
   "source": [
    "Reducing our set an additional time we removed any feature that did not contain values for at least 87% of the total records. This is the penultimate step in our data purification but will will leave us with 236 records or 59 cities each containing data for 4 years and roughly 100 features. "
   ]
  },
  {
   "cell_type": "code",
   "execution_count": 96,
   "metadata": {},
   "outputs": [],
   "source": [
    "df = df.set_index(['Name', 'Year4'])"
   ]
  },
  {
   "cell_type": "markdown",
   "metadata": {},
   "source": [
    "We are now done addressing missing data so we set the indices of our dataframe so that it will be recognized as a panel in future manipulations. "
   ]
  },
  {
   "cell_type": "code",
   "execution_count": 97,
   "metadata": {},
   "outputs": [],
   "source": [
    "df.drop(columns=['LAUS Code', 'latitude', 'longitude'],inplace=True)"
   ]
  },
  {
   "cell_type": "markdown",
   "metadata": {},
   "source": [
    "The column LAUS Code is an object data type and contained little varience so we remnoved it from our set so that we didnt not have to waste time attempting to represent it as quantitative value. Additionally longitude contained negative values that could not be handled in futer models so we chose to remove it along with latitude."
   ]
  },
  {
   "cell_type": "code",
   "execution_count": 98,
   "metadata": {},
   "outputs": [],
   "source": [
    "dummies = pd.get_dummies(df['size'])\n",
    "df.drop(columns=['size'],inplace=True)\n",
    "df = pd.concat([df, dummies], axis=1)"
   ]
  },
  {
   "cell_type": "markdown",
   "metadata": {},
   "source": [
    "Size is a catagorical variable and depicts the size of a city so we replaced it with three dummy variables representing its three catagories. "
   ]
  },
  {
   "cell_type": "markdown",
   "metadata": {},
   "source": [
    "## Initial Modeling"
   ]
  },
  {
   "cell_type": "markdown",
   "metadata": {},
   "source": [
    "Our analyses only addresses Total Thefts as our dependent but with minimal reworking one could construct a loop iterating through each crime statistic as the model's dependent variable. "
   ]
  },
  {
   "cell_type": "code",
   "execution_count": 99,
   "metadata": {},
   "outputs": [],
   "source": [
    "dep_var = 'Total- All Thefts - Municipalities'\n",
    "y = df[dep_var]\n",
    "y = y.rename(dep_var)\n",
    "y = pd.DataFrame(y)\n",
    "y = y.astype(int)"
   ]
  },
  {
   "cell_type": "markdown",
   "metadata": {},
   "source": [
    "Here we save Total Thefts as the dependent variable"
   ]
  },
  {
   "cell_type": "code",
   "execution_count": 100,
   "metadata": {},
   "outputs": [],
   "source": [
    "X = df.drop(columns = ['Robbery- Total - Municipalities',\n",
    "       'Rape-Total - Municipalities',\n",
    "       'Murder- Total - Municipalities', \n",
    "       'Total- All Thefts - Municipalities',\n",
    "       'Manslaughter-Total - Municipalities',\n",
    "       'Burglary-Total - Municipalities',\n",
    "       'Assault- Total - Municipalities'])"
   ]
  },
  {
   "cell_type": "markdown",
   "metadata": {},
   "source": [
    "Now dropping every other crime variable from our data frame as to prevent them from causing undesired noise in our model."
   ]
  },
  {
   "cell_type": "markdown",
   "metadata": {},
   "source": [
    "## Interpolation"
   ]
  },
  {
   "cell_type": "code",
   "execution_count": 101,
   "metadata": {},
   "outputs": [],
   "source": [
    "X = X.interpolate(method='linear')"
   ]
  },
  {
   "cell_type": "markdown",
   "metadata": {},
   "source": [
    "Finally we believe we have derived the optimal set to attempt to describe theft. However there are still a few null values, so we leverage the panel structure and use interpolate to fill in these nulls. Calculating our own values for these nulls is potentially harmful but we minimzed damage done here because we already dropped features that did not contain values for at least 87% of total records. Additionally notice we do not interpolate on the dependent for we do not want to predict predicted values, regardless \"y\" contained no missing values and we were able to keep the remaining records. "
   ]
  },
  {
   "cell_type": "markdown",
   "metadata": {},
   "source": [
    "## Split"
   ]
  },
  {
   "cell_type": "code",
   "execution_count": 102,
   "metadata": {},
   "outputs": [],
   "source": [
    "train_X, val_X, train_y, val_y = train_test_split(X, y, test_size=0.2)"
   ]
  },
  {
   "cell_type": "markdown",
   "metadata": {},
   "source": [
    "We perform a 20 percent test split but after preprocessing our dataset is much smaller, this is not desired but is prefered over noisy input data."
   ]
  },
  {
   "cell_type": "markdown",
   "metadata": {},
   "source": [
    "## Lasso"
   ]
  },
  {
   "cell_type": "markdown",
   "metadata": {},
   "source": [
    "We need to perform feature selection. We want our features to be independent of one another and we want to use SelectKBest to perform a Chi Squared Test however K is a required parameter to do this. We will use a Lasso Regression to identify how many variables we whould use for SelectKBest. This is our initial model so it will be a little bit of a hack job but further down we will construct a pipeline to optimize K and some other hyperparameters."
   ]
  },
  {
   "cell_type": "code",
   "execution_count": 103,
   "metadata": {
    "scrolled": true
   },
   "outputs": [
    {
     "name": "stdout",
     "output_type": "stream",
     "text": [
      "Best alpha using built-in LassoCV: 1077134.221116\n",
      "Best score using built-in LassoCV: 0.902847\n"
     ]
    }
   ],
   "source": [
    "reg = LassoCV(cv=3, tol=0.009, random_state=201)\n",
    "reg.fit(train_X, train_y[dep_var])\n",
    "print(\"Best alpha using built-in LassoCV: %f\" % reg.alpha_)\n",
    "print(\"Best score using built-in LassoCV: %f\" %reg.score(train_X,train_y))"
   ]
  },
  {
   "cell_type": "code",
   "execution_count": 104,
   "metadata": {},
   "outputs": [
    {
     "name": "stdout",
     "output_type": "stream",
     "text": [
      "Lasso picked 7 variables\n"
     ]
    }
   ],
   "source": [
    "coef = pd.Series(reg.coef_, index = train_X.columns)\n",
    "k_esi = sum(coef != 0)\n",
    "print(\"Lasso picked \" + str(k_esi) + \" variables\")"
   ]
  },
  {
   "cell_type": "markdown",
   "metadata": {},
   "source": [
    "We will use this value for K in SelectKBest"
   ]
  },
  {
   "cell_type": "markdown",
   "metadata": {},
   "source": [
    "## SelectKBest"
   ]
  },
  {
   "cell_type": "code",
   "execution_count": 105,
   "metadata": {},
   "outputs": [
    {
     "data": {
      "text/plain": [
       "SelectKBest(k=7, score_func=<function chi2 at 0x1a14cf26a8>)"
      ]
     },
     "execution_count": 105,
     "metadata": {},
     "output_type": "execute_result"
    }
   ],
   "source": [
    "selector = SelectKBest(score_func=chi2, k=k_esi)\n",
    "selector.fit(train_X, train_y)"
   ]
  },
  {
   "cell_type": "code",
   "execution_count": 106,
   "metadata": {},
   "outputs": [],
   "source": [
    "cols = selector.get_support(indices=True)\n",
    "\n",
    "X_chi = train_X.iloc[:,cols]\n",
    "val_X = val_X.iloc[:,cols]"
   ]
  },
  {
   "cell_type": "markdown",
   "metadata": {},
   "source": [
    "We need the features of our model to only contain features that are independent of one another so to achieve this we use SelectKBest to perform a Chi Squared test and then select K values where K is determined by the previous Lasso regression."
   ]
  },
  {
   "cell_type": "markdown",
   "metadata": {},
   "source": [
    "## Handling Multicollinearity"
   ]
  },
  {
   "cell_type": "code",
   "execution_count": 107,
   "metadata": {},
   "outputs": [],
   "source": [
    "reduced_form, inds = sympy.Matrix(X_chi.values).rref()\n",
    "X_chi = X_chi.iloc[:, list(inds)]"
   ]
  },
  {
   "cell_type": "markdown",
   "metadata": {},
   "source": [
    "Handling linear dependence "
   ]
  },
  {
   "cell_type": "code",
   "execution_count": 108,
   "metadata": {},
   "outputs": [],
   "source": [
    "# For each X, calculate VIF and save in dataframe\n",
    "vif = pd.DataFrame()\n",
    "vif[\"VIF Factor\"] = [variance_inflation_factor(X_chi.values, i) for i in range(X_chi.shape[1])]\n",
    "vif[\"features\"] = X_chi.columns"
   ]
  },
  {
   "cell_type": "markdown",
   "metadata": {},
   "source": [
    "Leveraging python's _\"Variance Inflation Factor\"_ module to systematically remove collinear variables "
   ]
  },
  {
   "cell_type": "code",
   "execution_count": 109,
   "metadata": {},
   "outputs": [],
   "source": [
    "indep_var = vif.iloc[vif['VIF Factor'].drop_duplicates().index]['features']\n",
    "X_chi = X_chi.loc[:,indep_var]\n",
    "val_X = val_X.loc[:,indep_var]\n",
    "train_X = X_chi"
   ]
  },
  {
   "cell_type": "markdown",
   "metadata": {},
   "source": [
    "Transforming our train and test dataframes to only contain desired features."
   ]
  },
  {
   "cell_type": "markdown",
   "metadata": {},
   "source": [
    "## Time Effects Regression (OLS)"
   ]
  },
  {
   "cell_type": "markdown",
   "metadata": {},
   "source": [
    "Having cleaned our data we believe OLS to be BLUE so we can now perform our regression"
   ]
  },
  {
   "cell_type": "code",
   "execution_count": 110,
   "metadata": {
    "scrolled": false
   },
   "outputs": [
    {
     "data": {
      "text/html": [
       "<table class=\"simpletable\">\n",
       "<caption>PanelOLS Estimation Summary</caption>\n",
       "<tr>\n",
       "  <th>Dep. Variable:</th>    <td>Total- All Thefts - Municipalities</td> <th>  R-squared:         </th>    <td>0.9019</td> \n",
       "</tr>\n",
       "<tr>\n",
       "  <th>Estimator:</th>                     <td>PanelOLS</td>              <th>  R-squared (Between):</th>   <td>0.9450</td> \n",
       "</tr>\n",
       "<tr>\n",
       "  <th>No. Observations:</th>                 <td>188</td>                <th>  R-squared (Within):</th>    <td>-0.3319</td>\n",
       "</tr>\n",
       "<tr>\n",
       "  <th>Date:</th>                      <td>Fri, Jul 10 2020</td>          <th>  R-squared (Overall):</th>   <td>0.9047</td> \n",
       "</tr>\n",
       "<tr>\n",
       "  <th>Time:</th>                          <td>22:54:55</td>              <th>  Log-likelihood     </th>    <td>-1417.7</td>\n",
       "</tr>\n",
       "<tr>\n",
       "  <th>Cov. Estimator:</th>               <td>Unadjusted</td>             <th>                     </th>       <td></td>    \n",
       "</tr>\n",
       "<tr>\n",
       "  <th></th>                                   <td></td>                  <th>  F-statistic:       </th>    <td>232.42</td> \n",
       "</tr>\n",
       "<tr>\n",
       "  <th>Entities:</th>                         <td>59</td>                 <th>  P-value            </th>    <td>0.0000</td> \n",
       "</tr>\n",
       "<tr>\n",
       "  <th>Avg Obs:</th>                        <td>3.1864</td>               <th>  Distribution:      </th>   <td>F(7,177)</td>\n",
       "</tr>\n",
       "<tr>\n",
       "  <th>Min Obs:</th>                        <td>1.0000</td>               <th>                     </th>       <td></td>    \n",
       "</tr>\n",
       "<tr>\n",
       "  <th>Max Obs:</th>                        <td>4.0000</td>               <th>  F-statistic (robust):</th>  <td>232.42</td> \n",
       "</tr>\n",
       "<tr>\n",
       "  <th></th>                                   <td></td>                  <th>  P-value            </th>    <td>0.0000</td> \n",
       "</tr>\n",
       "<tr>\n",
       "  <th>Time periods:</th>                      <td>4</td>                 <th>  Distribution:      </th>   <td>F(7,177)</td>\n",
       "</tr>\n",
       "<tr>\n",
       "  <th>Avg Obs:</th>                        <td>47.000</td>               <th>                     </th>       <td></td>    \n",
       "</tr>\n",
       "<tr>\n",
       "  <th>Min Obs:</th>                        <td>45.000</td>               <th>                     </th>       <td></td>    \n",
       "</tr>\n",
       "<tr>\n",
       "  <th>Max Obs:</th>                        <td>49.000</td>               <th>                     </th>       <td></td>    \n",
       "</tr>\n",
       "<tr>\n",
       "  <th></th>                                   <td></td>                  <th>                     </th>       <td></td>    \n",
       "</tr>\n",
       "</table>\n",
       "<table class=\"simpletable\">\n",
       "<caption>Parameter Estimates</caption>\n",
       "<tr>\n",
       "            <td></td>            <th>Parameter</th> <th>Std. Err.</th> <th>T-stat</th>  <th>P-value</th> <th>Lower CI</th> <th>Upper CI</th>\n",
       "</tr>\n",
       "<tr>\n",
       "  <th>Total_Revenue</th>          <td>-0.0136</td>   <td>0.0196</td>   <td>-0.6944</td> <td>0.4883</td>   <td>-0.0523</td>  <td>0.0251</td> \n",
       "</tr>\n",
       "<tr>\n",
       "  <th>General_Revenue</th>        <td>0.0056</td>    <td>0.0216</td>   <td>0.2594</td>  <td>0.7957</td>   <td>-0.0370</td>  <td>0.0482</td> \n",
       "</tr>\n",
       "<tr>\n",
       "  <th>Total_Expenditure</th>      <td>0.0163</td>    <td>0.0391</td>   <td>0.4167</td>  <td>0.6774</td>   <td>-0.0608</td>  <td>0.0934</td> \n",
       "</tr>\n",
       "<tr>\n",
       "  <th>Direct_Expenditure</th>     <td>0.0070</td>    <td>0.0424</td>   <td>0.1652</td>  <td>0.8690</td>   <td>-0.0767</td>  <td>0.0908</td> \n",
       "</tr>\n",
       "<tr>\n",
       "  <th>General_Expenditure</th>    <td>-0.4118</td>   <td>0.4934</td>   <td>-0.8347</td> <td>0.4050</td>   <td>-1.3854</td>  <td>0.5618</td> \n",
       "</tr>\n",
       "<tr>\n",
       "  <th>Direct_General_Expend</th>  <td>0.4237</td>    <td>0.4915</td>   <td>0.8620</td>  <td>0.3898</td>   <td>-0.5463</td>  <td>1.3938</td> \n",
       "</tr>\n",
       "<tr>\n",
       "  <th>Total_LTD_Out</th>          <td>0.0115</td>    <td>0.0025</td>   <td>4.6543</td>  <td>0.0000</td>   <td>0.0066</td>   <td>0.0163</td> \n",
       "</tr>\n",
       "</table><br/><br/>F-test for Poolability: 5.7287<br/>P-value: 0.0009<br/>Distribution: F(3,177)<br/><br/>Included effects: Time<br/>id: 0x101897f28"
      ],
      "text/plain": [
       "                                  PanelOLS Estimation Summary                                   \n",
       "================================================================================================\n",
       "Dep. Variable:     Total- All Thefts - Municipalities   R-squared:                        0.9019\n",
       "Estimator:                                   PanelOLS   R-squared (Between):              0.9450\n",
       "No. Observations:                                 188   R-squared (Within):              -0.3319\n",
       "Date:                                Fri, Jul 10 2020   R-squared (Overall):              0.9047\n",
       "Time:                                        22:54:55   Log-likelihood                   -1417.7\n",
       "Cov. Estimator:                            Unadjusted                                           \n",
       "                                                        F-statistic:                      232.42\n",
       "Entities:                                          59   P-value                           0.0000\n",
       "Avg Obs:                                       3.1864   Distribution:                   F(7,177)\n",
       "Min Obs:                                       1.0000                                           \n",
       "Max Obs:                                       4.0000   F-statistic (robust):             232.42\n",
       "                                                        P-value                           0.0000\n",
       "Time periods:                                       4   Distribution:                   F(7,177)\n",
       "Avg Obs:                                       47.000                                           \n",
       "Min Obs:                                       45.000                                           \n",
       "Max Obs:                                       49.000                                           \n",
       "                                                                                                \n",
       "                                   Parameter Estimates                                   \n",
       "=========================================================================================\n",
       "                       Parameter  Std. Err.     T-stat    P-value    Lower CI    Upper CI\n",
       "-----------------------------------------------------------------------------------------\n",
       "Total_Revenue            -0.0136     0.0196    -0.6944     0.4883     -0.0523      0.0251\n",
       "General_Revenue           0.0056     0.0216     0.2594     0.7957     -0.0370      0.0482\n",
       "Total_Expenditure         0.0163     0.0391     0.4167     0.6774     -0.0608      0.0934\n",
       "Direct_Expenditure        0.0070     0.0424     0.1652     0.8690     -0.0767      0.0908\n",
       "General_Expenditure      -0.4118     0.4934    -0.8347     0.4050     -1.3854      0.5618\n",
       "Direct_General_Expend     0.4237     0.4915     0.8620     0.3898     -0.5463      1.3938\n",
       "Total_LTD_Out             0.0115     0.0025     4.6543     0.0000      0.0066      0.0163\n",
       "=========================================================================================\n",
       "\n",
       "F-test for Poolability: 5.7287\n",
       "P-value: 0.0009\n",
       "Distribution: F(3,177)\n",
       "\n",
       "Included effects: Time\n",
       "PanelEffectsResults, id: 0x101897f28"
      ]
     },
     "execution_count": 110,
     "metadata": {},
     "output_type": "execute_result"
    }
   ],
   "source": [
    "paneols = PanelOLS(train_y[dep_var],X_chi[indep_var], time_effects=True)\n",
    "res = paneols.fit()\n",
    "res"
   ]
  },
  {
   "cell_type": "markdown",
   "metadata": {},
   "source": [
    "This model appears to be a good representation of the data. From this we can see that Population, Total_Cash__Securities, Nonin_Trust_Cash__Sec, Total_Expenditure, ect. all are largly statistically significant in identifying Total Theft \n",
    "<br><br>\n",
    "Population and Total Expenditure seem to be accurate in describing Total Theft with low standard errors. This makes logical sense in that the more people in an area the more crime. Oth_Nonin_Fd_Cash__Sec, Tot_Chgs_and_Misc_Rev and Nonin_Trust_Cash___Sec also have low std. errors. \n",
    "<br><br>\n",
    "Our final P-value appears to be statistically significant so lets use our test data to see how it performs with unseen data."
   ]
  },
  {
   "cell_type": "code",
   "execution_count": 111,
   "metadata": {},
   "outputs": [
    {
     "data": {
      "text/plain": [
       "0.8332998470474992"
      ]
     },
     "execution_count": 111,
     "metadata": {},
     "output_type": "execute_result"
    }
   ],
   "source": [
    "pred_y_pane = res.predict(val_X)\n",
    "r2_score(val_y, pred_y_pane)"
   ]
  },
  {
   "cell_type": "markdown",
   "metadata": {},
   "source": [
    "The R squared using unseen data. \n",
    "<br>\n",
    "Our R square dropped a bit but it still appears to be decent. We will make some improvements further down."
   ]
  },
  {
   "cell_type": "code",
   "execution_count": 112,
   "metadata": {},
   "outputs": [
    {
     "data": {
      "image/png": "[encoded data removed]",
      "text/plain": [
       "<Figure size 576x396 with 1 Axes>"
      ]
     },
     "metadata": {},
     "output_type": "display_data"
    }
   ],
   "source": [
    "fig, ax = plt.subplots()\n",
    "\n",
    "ax.scatter(x=val_y, y=pred_y_pane['predictions'])\n",
    "line = mlines.Line2D([0,1], [0,1], color='red')\n",
    "transform = ax.transAxes\n",
    "line.set_transform(transform)\n",
    "ax.add_line(line)\n",
    "ax.set_title('Parity Plot')\n",
    "ax.set_xlabel('Actual Values')\n",
    "ax.set_ylabel('Predicted Values')\n",
    "plt.show()"
   ]
  },
  {
   "cell_type": "markdown",
   "metadata": {},
   "source": [
    "Above is a parity plot simply to give a visual representation of how our model is predicting. From it you can see that the model is optimistically biased and predicting high.  "
   ]
  },
  {
   "cell_type": "markdown",
   "metadata": {},
   "source": [
    "## Scatter Plots of Dependent against Independent variables"
   ]
  },
  {
   "cell_type": "code",
   "execution_count": 113,
   "metadata": {},
   "outputs": [
    {
     "data": {
      "image/png": "[encoded data removed]",
      "text/plain": [
       "<Figure size 1080x1080 with 15 Axes>"
      ]
     },
     "metadata": {},
     "output_type": "display_data"
    }
   ],
   "source": [
    "fig1, axs= plt.subplots(figsize=(15,15),nrows=5, ncols=3, sharey=True)\n",
    "    \n",
    "\n",
    "sns.regplot(y=y['Total- All Thefts - Municipalities'], x=X['Total_Revenue'], ax=axs[0,0], color='g')\n",
    "axs[0, 0].set_xlabel(\"Total_Revenue\")\n",
    "axs[0, 0].set_ylabel('All Thefts')\n",
    "\n",
    "\n",
    "sns.regplot(y=y['Total- All Thefts - Municipalities'], x=X['Total_Expenditure'], ax=axs[0,1], color='g')\n",
    "axs[0, 1].set_xlabel(\"Total_Expenditure\")\n",
    "axs[0, 1].set_ylabel('All Thefts')\n",
    "\n",
    "\n",
    "sns.regplot(y=y['Total- All Thefts - Municipalities'], x=X['Beg_LTD_Out_All_Other'], ax=axs[0,2], color='g')\n",
    "axs[0, 2].set_xlabel(\"Beg_LTD_Out_All_Other\")\n",
    "axs[0, 2].set_ylabel('All Thefts')\n",
    "\n",
    "###############\n",
    "\n",
    "sns.regplot(y=y['Total- All Thefts - Municipalities'], x=X['Direct_Expenditure'], ax=axs[1,0], color='g')\n",
    "axs[1, 0].set_xlabel(\"Direct_Expenditure\")\n",
    "axs[1, 0].set_ylabel('All Thefts')\n",
    "\n",
    "sns.regplot(y=y['Total- All Thefts - Municipalities'], x=X['General_Expenditure'], ax=axs[1,1], color='g')\n",
    "axs[1, 1].set_xlabel(\"General_Expenditure\")\n",
    "axs[1, 1].set_ylabel('All Thefts')\n",
    "\n",
    "\n",
    "sns.regplot(y=y['Total- All Thefts - Municipalities'], x=X['LTD_Out_All_Other'], ax=axs[1,2], color='r')\n",
    "axs[1, 2].set_xlabel(\"LTD_Out_All_Other\")\n",
    "axs[1, 2].set_ylabel('All Thefts')\n",
    "##################\n",
    "\n",
    "sns.regplot(y=y['Total- All Thefts - Municipalities'], x=X['Direct_General_Expend'], ax=axs[2,0], color='g')\n",
    "axs[2, 0].set_xlabel(\"Direct_General_Expend\")\n",
    "axs[2, 0].set_ylabel('All Thefts')\n",
    "\n",
    "sns.regplot(y=y['Total- All Thefts - Municipalities'], x=X['General_Current_Expend'], ax=axs[2,1], color='g')\n",
    "axs[2, 1].set_xlabel(\"General_Current_Expend\")\n",
    "axs[2, 1].set_ylabel('All Thefts')\n",
    "\n",
    "\n",
    "sns.regplot(y=y['Total- All Thefts - Municipalities'], x=X['Total_Cash___Securities'], ax=axs[2,2], color='g')\n",
    "axs[2, 2].set_xlabel(\"Total_Cash___Securities\")\n",
    "axs[2, 2].set_ylabel('All Thefts')\n",
    "###############\n",
    "\n",
    "sns.regplot(y=y['Total- All Thefts - Municipalities'], x=X['General_Current_Oper'], ax=axs[3,0], color='g')\n",
    "axs[3, 0].set_xlabel(\"General_Current_Oper\")\n",
    "axs[3, 0].set_ylabel('All Thefts')\n",
    "\n",
    "sns.regplot(y=y['Total- All Thefts - Municipalities'], x=X['Total_Debt_Outstanding'], ax=axs[3,1], color='r')\n",
    "axs[3, 1].set_xlabel(\"Total_Debt_Outstanding\")\n",
    "axs[3, 1].set_ylabel('All Thefts')\n",
    "\n",
    "\n",
    "sns.regplot(y=y['Total- All Thefts - Municipalities'], x=X['Nonin_Trust_Cash___Sec'], ax=axs[3,2], color='g')\n",
    "axs[3, 2].set_xlabel(\"Nonin_Trust_Cash___Sec\")\n",
    "axs[3, 2].set_ylabel('All Thefts')\n",
    "##################\n",
    "\n",
    "sns.regplot(y=y['Total- All Thefts - Municipalities'], x=X['Total_Long_Term_Debt_Out'], ax=axs[4,0], color='r')\n",
    "axs[4, 0].set_xlabel(\"Total_Long_Term_Debt_Out\")\n",
    "axs[4, 0].set_ylabel('All Thefts')\n",
    "\n",
    "sns.regplot(y=y['Total- All Thefts - Municipalities'], x=X['Total_Beg_LTD_Out'], ax=axs[4,1], color='g')\n",
    "axs[4, 1].set_xlabel(\"Total_Beg_LTD_Out\")\n",
    "axs[4, 1].set_ylabel('All Thefts')\n",
    "\n",
    "\n",
    "\n",
    "plt.tight_layout()"
   ]
  },
  {
   "cell_type": "markdown",
   "metadata": {},
   "source": [
    "Taking a few of the independent varibles and ploting them against the dependent there arises some heteroskedasticity, as shown above, so a non-linear estimator will likely produce the best model. One might perform an F-test for validation but lets run with this."
   ]
  },
  {
   "cell_type": "markdown",
   "metadata": {},
   "source": [
    "## Bayesian Ridge Regression"
   ]
  },
  {
   "cell_type": "code",
   "execution_count": 114,
   "metadata": {},
   "outputs": [
    {
     "name": "stderr",
     "output_type": "stream",
     "text": [
      "/Users/dom/anaconda3/lib/python3.7/site-packages/sklearn/utils/validation.py:761: DataConversionWarning: A column-vector y was passed when a 1d array was expected. Please change the shape of y to (n_samples, ), for example using ravel().\n",
      "  y = column_or_1d(y, warn=True)\n"
     ]
    }
   ],
   "source": [
    "clf = BayesianRidge(compute_score=True)\n",
    "clf.fit(train_X, train_y)\n",
    "pred_y_baye = clf.predict(val_X)"
   ]
  },
  {
   "cell_type": "code",
   "execution_count": 115,
   "metadata": {},
   "outputs": [
    {
     "data": {
      "text/plain": [
       "0.8631852866124068"
      ]
     },
     "execution_count": 115,
     "metadata": {},
     "output_type": "execute_result"
    }
   ],
   "source": [
    "r2_score(val_y, pred_y_baye)"
   ]
  },
  {
   "cell_type": "markdown",
   "metadata": {},
   "source": [
    "The R squared using unseen data\n",
    "<br>\n",
    "Compared to our time effects model this provided a pretty decent prediction"
   ]
  },
  {
   "cell_type": "markdown",
   "metadata": {},
   "source": [
    "## Random Forest"
   ]
  },
  {
   "cell_type": "code",
   "execution_count": 116,
   "metadata": {},
   "outputs": [
    {
     "name": "stderr",
     "output_type": "stream",
     "text": [
      "/Users/dom/anaconda3/lib/python3.7/site-packages/ipykernel_launcher.py:2: DataConversionWarning: A column-vector y was passed when a 1d array was expected. Please change the shape of y to (n_samples,), for example using ravel().\n",
      "  \n"
     ]
    }
   ],
   "source": [
    "regr = RandomForestRegressor(n_estimators=100, random_state=201)\n",
    "regr.fit(train_X, train_y)\n",
    "pred_y_rand = regr.predict(val_X)"
   ]
  },
  {
   "cell_type": "code",
   "execution_count": 117,
   "metadata": {},
   "outputs": [
    {
     "data": {
      "text/plain": [
       "0.9310881679861482"
      ]
     },
     "execution_count": 117,
     "metadata": {},
     "output_type": "execute_result"
    }
   ],
   "source": [
    "r2_score(val_y, pred_y_rand)"
   ]
  },
  {
   "cell_type": "markdown",
   "metadata": {},
   "source": [
    "The R squared using unseen data\n",
    "<br>\n",
    "Slightly lower than the ridge model but being a random model we should attempt to optimize the parameter n_estimators."
   ]
  },
  {
   "cell_type": "code",
   "execution_count": 118,
   "metadata": {
    "scrolled": true
   },
   "outputs": [
    {
     "data": {
      "text/plain": [
       "1.230177740407641"
      ]
     },
     "execution_count": 118,
     "metadata": {},
     "output_type": "execute_result"
    }
   ],
   "source": [
    "np.sqrt(mean_squared_log_error(val_y, pred_y_rand))"
   ]
  },
  {
   "cell_type": "markdown",
   "metadata": {},
   "source": [
    "The RSME using unseen data"
   ]
  },
  {
   "cell_type": "markdown",
   "metadata": {},
   "source": [
    "## Optimizing HyperParameters with GridSearchCV"
   ]
  },
  {
   "cell_type": "code",
   "execution_count": 119,
   "metadata": {},
   "outputs": [],
   "source": [
    "train_X, val_X, train_y, val_y = train_test_split(X, y, test_size=0.2)"
   ]
  },
  {
   "cell_type": "markdown",
   "metadata": {},
   "source": [
    "We will redo the split because we altered the training data during the Chi Squared test earlier  "
   ]
  },
  {
   "cell_type": "code",
   "execution_count": 120,
   "metadata": {
    "scrolled": false
   },
   "outputs": [
    {
     "name": "stderr",
     "output_type": "stream",
     "text": [
      "/Users/dom/anaconda3/lib/python3.7/site-packages/sklearn/model_selection/_search.py:841: DeprecationWarning: The default of the `iid` parameter will change from True to False in version 0.22 and will be removed in 0.24. This will change numeric results when test-set sizes are unequal.\n",
      "  DeprecationWarning)\n"
     ]
    },
    {
     "data": {
      "text/plain": [
       "GridSearchCV(cv=5, error_score='raise-deprecating',\n",
       "       estimator=Pipeline(memory=None,\n",
       "     steps=[('kbest', SelectKBest(k=2, score_func=<function chi2 at 0x1a14cf26a8>)), ('rand', RandomForestRegressor(bootstrap=True, criterion='mse', max_depth=None,\n",
       "           max_features='auto', max_leaf_nodes=None,\n",
       "           min_impurity_decrease=0.0, min_impurity...mators=5, n_jobs=None,\n",
       "           oob_score=False, random_state=201, verbose=0, warm_start=False))]),\n",
       "       fit_params=None, iid='warn', n_jobs=None,\n",
       "       param_grid=[{'kbest__k': array([ 5, 10, 15, 20, 25, 30, 35, 40]), 'rand__n_estimators': [5, 10, 50, 100, 500, 1000]}],\n",
       "       pre_dispatch='2*n_jobs', refit=True, return_train_score='warn',\n",
       "       scoring='neg_mean_squared_error', verbose=0)"
      ]
     },
     "execution_count": 120,
     "metadata": {},
     "output_type": "execute_result"
    }
   ],
   "source": [
    "tuned_params = [{'kbest__k':np.arange(5,X.columns.size//2, 5), 'rand__n_estimators':[5,10,50,100,500,1000]}]\n",
    "model = SelectKBest(score_func=chi2, k=2)\n",
    "\n",
    "pipeline = Pipeline([('kbest',model), ('rand', RandomForestRegressor(n_estimators=5, random_state=201))])\n",
    "\n",
    "clf = GridSearchCV(estimator=pipeline, param_grid=tuned_params, cv=5, refit=True, scoring='neg_mean_squared_error')\n",
    "\n",
    "clf.fit(train_X, train_y[dep_var])"
   ]
  },
  {
   "cell_type": "markdown",
   "metadata": {},
   "source": [
    "Using a pipeline with SelectKBest, RandomForest and GridSearchCV we optimized K of SelectKBest and the number of estimators (n) of RandomForest. We used GridSearchCV which is rather exhaustive but could likely become more efficient if replaced by RandomSearch "
   ]
  },
  {
   "cell_type": "code",
   "execution_count": 121,
   "metadata": {},
   "outputs": [
    {
     "data": {
      "text/plain": [
       "{'kbest__k': 35, 'rand__n_estimators': 5}"
      ]
     },
     "execution_count": 121,
     "metadata": {},
     "output_type": "execute_result"
    }
   ],
   "source": [
    "clf.best_params_"
   ]
  },
  {
   "cell_type": "markdown",
   "metadata": {},
   "source": [
    "The optimal values according to our pipeline "
   ]
  },
  {
   "cell_type": "code",
   "execution_count": 122,
   "metadata": {},
   "outputs": [
    {
     "data": {
      "text/plain": [
       "0.8375486072443916"
      ]
     },
     "execution_count": 122,
     "metadata": {},
     "output_type": "execute_result"
    }
   ],
   "source": [
    "pred_y_grid = clf.predict(val_X)\n",
    "r2_score(val_y, pred_y_grid)"
   ]
  },
  {
   "cell_type": "markdown",
   "metadata": {},
   "source": [
    "The R squared using unseen data\n",
    "<br>\n",
    "This provided us with the best model, furthermore this pipeline could easily be isolated with the preprocessing steps and turned into a pickle for further use."
   ]
  },
  {
   "cell_type": "code",
   "execution_count": 123,
   "metadata": {},
   "outputs": [
    {
     "data": {
      "text/plain": [
       "0.6822454745533553"
      ]
     },
     "execution_count": 123,
     "metadata": {},
     "output_type": "execute_result"
    }
   ],
   "source": [
    "np.sqrt(mean_squared_log_error(val_y, pred_y_grid))"
   ]
  },
  {
   "cell_type": "markdown",
   "metadata": {},
   "source": [
    "The RSME using unseen data\n",
    "<br>\n",
    "Our RSME got slightly worse so this model could become more robust."
   ]
  },
  {
   "cell_type": "markdown",
   "metadata": {},
   "source": [
    "## Potential Future Steps"
   ]
  },
  {
   "cell_type": "markdown",
   "metadata": {},
   "source": [
    "From this analysis we have provided a linear model estimating total theft of Idaho cities. Furthermore we constructed a pipeline that produces a more robust model. For further iterations of the project there are serveral places of potential improvement. <br>\n",
    ">- Feature engineering & importing relevent data. <br>\n",
    "* Perform a better imputation technique. <br>\n",
    "- Perform further test to determine optimal features. <br>\n",
    "- Replace GridSearch with RandomSearch or some other better method to optimize hyper parameters. <br>\n",
    "- Improve models by using a more effective algorithm or better yet applying deep learning techniques. <br>\n",
    "- Package everything into a pickle   <br>\n",
    "- Construct models for the other variables measuring crime <br>"
   ]
  }
 ],
 "metadata": {
  "kernelspec": {
   "display_name": "Python 3",
   "language": "python",
   "name": "python3"
  },
  "language_info": {
   "codemirror_mode": {
    "name": "ipython",
    "version": 3
   },
   "file_extension": ".py",
   "mimetype": "text/x-python",
   "name": "python",
   "nbconvert_exporter": "python",
   "pygments_lexer": "ipython3",
   "version": "3.7.1"
  }
 },
 "nbformat": 4,
 "nbformat_minor": 2
}
